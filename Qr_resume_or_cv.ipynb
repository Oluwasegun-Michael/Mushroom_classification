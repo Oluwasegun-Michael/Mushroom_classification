{
  "nbformat": 4,
  "nbformat_minor": 0,
  "metadata": {
    "colab": {
      "provenance": [],
      "authorship_tag": "ABX9TyO7PVCmPstZRwrqPSuOEFRb",
      "include_colab_link": true
    },
    "kernelspec": {
      "name": "python3",
      "display_name": "Python 3"
    },
    "language_info": {
      "name": "python"
    }
  },
  "cells": [
    {
      "cell_type": "markdown",
      "metadata": {
        "id": "view-in-github",
        "colab_type": "text"
      },
      "source": [
        "<a href=\"https://colab.research.google.com/github/Oluwasegun-Michael/Mushroom_classification/blob/main/Qr_resume_or_cv.ipynb\" target=\"_parent\"><img src=\"https://colab.research.google.com/assets/colab-badge.svg\" alt=\"Open In Colab\"/></a>"
      ]
    },
    {
      "cell_type": "markdown",
      "source": [
        "Creating QR for resume or cv"
      ],
      "metadata": {
        "id": "voY6G0cCczrm"
      }
    },
    {
      "cell_type": "code",
      "execution_count": 1,
      "metadata": {
        "colab": {
          "base_uri": "https://localhost:8080/"
        },
        "id": "_mH7es2lcKqK",
        "outputId": "437427ca-d648-45db-f7a4-80f9bc5acf14"
      },
      "outputs": [
        {
          "output_type": "stream",
          "name": "stdout",
          "text": [
            "Collecting pyqrcode\n",
            "  Downloading PyQRCode-1.2.1.zip (41 kB)\n",
            "\u001b[?25l     \u001b[90m━━━━━━━━━━━━━━━━━━━━━━━━━━━━━━━━━━━━━━━━\u001b[0m \u001b[32m0.0/41.9 kB\u001b[0m \u001b[31m?\u001b[0m eta \u001b[36m-:--:--\u001b[0m\r\u001b[2K     \u001b[90m━━━━━━━━━━━━━━━━━━━━━━━━━━━━━━━━━━━━━━━━\u001b[0m \u001b[32m41.9/41.9 kB\u001b[0m \u001b[31m2.7 MB/s\u001b[0m eta \u001b[36m0:00:00\u001b[0m\n",
            "\u001b[?25h  Preparing metadata (setup.py) ... \u001b[?25l\u001b[?25hdone\n",
            "Building wheels for collected packages: pyqrcode\n",
            "  Building wheel for pyqrcode (setup.py) ... \u001b[?25l\u001b[?25hdone\n",
            "  Created wheel for pyqrcode: filename=PyQRCode-1.2.1-py3-none-any.whl size=36221 sha256=825d911d9c930789cf416992a7e915307045a1f400d3013de532d364d157a2ba\n",
            "  Stored in directory: /root/.cache/pip/wheels/34/2d/20/082874e49a32cdcc87ebaf99dd0099fb7774ef30f010dfb6f2\n",
            "Successfully built pyqrcode\n",
            "Installing collected packages: pyqrcode\n",
            "Successfully installed pyqrcode-1.2.1\n"
          ]
        }
      ],
      "source": [
        "# Install qrcode !pip install pyqrcode\n",
        "!pip install pyqrcode"
      ]
    },
    {
      "cell_type": "code",
      "source": [
        "# Install png !pip install pypng\n",
        "!pip install pypng"
      ],
      "metadata": {
        "colab": {
          "base_uri": "https://localhost:8080/"
        },
        "id": "86Loeu51cw5Z",
        "outputId": "c7beec78-50f9-462a-9035-63f6d9f578df"
      },
      "execution_count": null,
      "outputs": [
        {
          "output_type": "stream",
          "name": "stdout",
          "text": [
            "Requirement already satisfied: pypng in /usr/local/lib/python3.7/dist-packages (0.0.21)\n"
          ]
        }
      ]
    },
    {
      "cell_type": "code",
      "source": [
        "# Import QRCode from pyqrcode\n",
        "import pyqrcode\n",
        "import png\n",
        "from pyqrcode import QRCode\n",
        "# generate the QR code\n",
        "# upload the document to google drive and cogpy the url link of the document uploaded to google drive\n",
        "cv=pyqrcode.create(\"https://drive.google.com/file/d/1CwfmuT7B82xm7eDzI3Oyzv2giwrhtDdx/view?usp=drivesdk\")\n",
        "# Create and save the svg file\n",
        "cv.svg(\"oyedotunResume_or_CV1.svg\", scale = 4)"
      ],
      "metadata": {
        "id": "-hptqZA3eQ2E"
      },
      "execution_count": null,
      "outputs": []
    },
    {
      "cell_type": "code",
      "source": [
        "# Import QRCode from pyqrcode\n",
        "import pyqrcode\n",
        "import png\n",
        "from pyqrcode import QRCode\n",
        "# generate the QR code\n",
        "# upload the document to google drive and cogpy the url link of the document uploaded to google drive\n",
        "cv=pyqrcode.create(\"https://drive.google.com/file/d/1G7-GDtYBCQ7T6jScOpkLfH2clgczJ-jy/view?usp=drivesdk\")\n",
        "# Create and save the png file\n",
        "cv.png(\"oyedotunResume_or_CV.png\", scale = 1)"
      ],
      "metadata": {
        "id": "5Cp7htpueaGg"
      },
      "execution_count": null,
      "outputs": []
    }
  ]
}